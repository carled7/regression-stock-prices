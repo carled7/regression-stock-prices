{
 "cells": [
  {
   "cell_type": "code",
   "execution_count": 3,
   "metadata": {},
   "outputs": [],
   "source": [
    "import requests\n",
    "import csv\n",
    "import os\n",
    "import time\n",
    "\n",
    "import pandas as pd"
   ]
  },
  {
   "cell_type": "code",
   "execution_count": 9,
   "metadata": {},
   "outputs": [
    {
     "name": "stdout",
     "output_type": "stream",
     "text": [
      "New .csv downloaded for HOME34.SAO: 200\n"
     ]
    }
   ],
   "source": [
    "tickers_df = pd.read_csv('TICKERS.csv')\n",
    "\n",
    "counter = 0\n",
    "\n",
    "for index, row in tickers_df.iterrows():\n",
    "\n",
    "    ticker = (f'{row[\"ticker\"]}.SAO')\n",
    "    path = (f'stock-data/{ticker}.csv')\n",
    "\n",
    "    key = 'XLSA5LZF5KUUXJX3'\n",
    "\n",
    "    if not os.path.exists(path):\n",
    "        \n",
    "        if counter == 5:\n",
    "            print('waiting...')\n",
    "            time.sleep(70)\n",
    "            counter = 0\n",
    "        \n",
    "        url = (f'https://www.alphavantage.co/query?apikey={key}&function=TIME_SERIES_DAILY&symbol={ticker}&datatype=csv&outputsize=full')\n",
    "\n",
    "        response = requests.get(url)\n",
    "        counter += 1\n",
    "\n",
    "        if response.status_code == 200:\n",
    "            content = response.content.decode()\n",
    "            \n",
    "            reader = csv.reader(content.splitlines(), delimiter=',')\n",
    "            \n",
    "            dataset = list(reader)\n",
    "            \n",
    "            with open(path, mode='w', newline='') as file:\n",
    "                writer = csv.writer(file)\n",
    "                writer.writerows(dataset)\n",
    "                \n",
    "            print(f\"New .csv downloaded for {ticker}: {response.status_code}\")\n",
    "        else:\n",
    "            print(f\"Request failed for {ticker}: {response.status_code}\")"
   ]
  }
 ],
 "metadata": {
  "kernelspec": {
   "display_name": ".venv",
   "language": "python",
   "name": "python3"
  },
  "language_info": {
   "codemirror_mode": {
    "name": "ipython",
    "version": 3
   },
   "file_extension": ".py",
   "mimetype": "text/x-python",
   "name": "python",
   "nbconvert_exporter": "python",
   "pygments_lexer": "ipython3",
   "version": "3.11.5"
  },
  "orig_nbformat": 4
 },
 "nbformat": 4,
 "nbformat_minor": 2
}
