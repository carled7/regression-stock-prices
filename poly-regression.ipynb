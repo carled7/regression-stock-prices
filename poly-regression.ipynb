{
 "cells": [
  {
   "cell_type": "markdown",
   "metadata": {},
   "source": [
    "##### Imports"
   ]
  },
  {
   "cell_type": "code",
   "execution_count": 1,
   "metadata": {},
   "outputs": [],
   "source": [
    "from sklearn.preprocessing import PolynomialFeatures\n",
    "from sklearn.linear_model import LinearRegression\n",
    "from matplotlib import pyplot as plt\n",
    "from sklearn.metrics import r2_score\n",
    "\n",
    "import pandas as pd\n",
    "import numpy as np\n",
    "\n",
    "import csv\n",
    "import datetime"
   ]
  },
  {
   "cell_type": "markdown",
   "metadata": {},
   "source": [
    "##### METHOD - writes new line to output.csv"
   ]
  },
  {
   "cell_type": "code",
   "execution_count": 9,
   "metadata": {},
   "outputs": [],
   "source": [
    "def write_rows_on_csv(path, ticker, train_length, test_length, nth_pred, value, pred, accuracy, trend_validation):\n",
    "    with open(path, \"a\", newline=\"\") as file:\n",
    "        writer = csv.writer(file)\n",
    "\n",
    "        # Write new rows to the CSV file\n",
    "        new_rows = [[ticker, train_length, test_length, nth_pred, value, pred, accuracy, trend_validation]]\n",
    "        writer.writerows(new_rows)"
   ]
  },
  {
   "cell_type": "markdown",
   "metadata": {},
   "source": [
    "##### METHOD - returns best degree for given X and y"
   ]
  },
  {
   "cell_type": "code",
   "execution_count": 3,
   "metadata": {},
   "outputs": [],
   "source": [
    "def get_best_degree(X, y):\n",
    "    r2A_hist = []\n",
    "    r2_hist = []\n",
    "    degrees = []\n",
    "\n",
    "    n = len(X)\n",
    "    k = 1\n",
    "\n",
    "    for num in range(2, 15):\n",
    "        hist_poly_reg = PolynomialFeatures(degree=num)\n",
    "\n",
    "        hist_X_poly = hist_poly_reg.fit_transform(X)\n",
    "\n",
    "        hist_poly_lin_reg = LinearRegression()\n",
    "        hist_poly_lin_reg.fit(hist_X_poly, y)\n",
    "\n",
    "        r2 = r2_score(y, hist_poly_lin_reg.predict(hist_X_poly))\n",
    "        adj_r2 = 1 - ((1 - r2) * (n - 1) / (n - k - 1))\n",
    "\n",
    "        r2_hist.append(r2)\n",
    "        r2A_hist.append(adj_r2)\n",
    "        degrees.append(num)\n",
    "\n",
    "    return degrees[r2A_hist.index(max(r2A_hist))]"
   ]
  },
  {
   "cell_type": "markdown",
   "metadata": {},
   "source": [
    "##### METHOD - converts string to datetime"
   ]
  },
  {
   "cell_type": "code",
   "execution_count": 4,
   "metadata": {},
   "outputs": [],
   "source": [
    "def str_to_datetime(timestamp):\n",
    "  date_parts = timestamp.split('-')\n",
    "  year, month, day = int(date_parts[0]), int(date_parts[1]), int(date_parts[2])\n",
    "  return datetime.datetime(year=year, month=month, day=day)"
   ]
  },
  {
   "cell_type": "markdown",
   "metadata": {},
   "source": [
    "##### METHOD - train regression and return predicted values"
   ]
  },
  {
   "cell_type": "code",
   "execution_count": 5,
   "metadata": {},
   "outputs": [],
   "source": [
    "def train_regression(ticker, train_set_length, test_set_length):\n",
    "    dataset_path = f\"data/stock-data/{ticker}.SAO.csv\"\n",
    "    df = pd.read_csv(dataset_path)\n",
    "    df = df[[\"timestamp\", \"close\"]]\n",
    "    df[\"timestamp\"] = df[\"timestamp\"].apply(str_to_datetime)\n",
    "    df.index = df.pop(\"timestamp\")\n",
    "\n",
    "    # Dividing subset for training and testing\n",
    "    train_df = df.iloc[test_set_length : test_set_length + train_set_length]\n",
    "    test_df = df.iloc[:test_set_length + 1]\n",
    "\n",
    "    # X and y from training\n",
    "    train_y = train_df.values\n",
    "    train_X = np.array([[i for i in reversed(range(len(train_y)))]]).reshape(-1, 1)\n",
    "\n",
    "    # X and y from testing\n",
    "    test_y = test_df.values\n",
    "    test_X = np.array(\n",
    "        [[i for i in reversed(range(len(train_y), len(train_y) + len(test_y)))]]\n",
    "    ).reshape(-1, 1)\n",
    "\n",
    "    # Defining model\n",
    "    degree = get_best_degree(train_X, train_y)\n",
    "    poly_reg = PolynomialFeatures(degree)\n",
    "    poly_lin_reg = LinearRegression()\n",
    "\n",
    "    # Training model\n",
    "    train_X_poly = poly_reg.fit_transform(train_X)\n",
    "    poly_lin_reg.fit(train_X_poly, train_y)\n",
    "    train_y_pred = poly_lin_reg.predict(train_X_poly)\n",
    "\n",
    "    # Testing model\n",
    "    test_X_poly = poly_reg.fit_transform(test_X)\n",
    "    test_y_pred = poly_lin_reg.predict(test_X_poly)\n",
    "\n",
    "    return test_y, test_y_pred"
   ]
  },
  {
   "cell_type": "markdown",
   "metadata": {},
   "source": [
    "##### Build results dataset"
   ]
  },
  {
   "cell_type": "code",
   "execution_count": 10,
   "metadata": {},
   "outputs": [],
   "source": [
    "tickers_df = pd.read_csv(\"data/TICKERS.csv\")\n",
    "out_path = \"out/poly-regression-results.csv\"\n",
    "\n",
    "with open(out_path, mode=\"w\", newline=\"\") as file:\n",
    "    writer = csv.writer(file)\n",
    "\n",
    "    # write header\n",
    "    writer.writerow(\n",
    "        [\n",
    "            \"ticker\",\n",
    "            \"train_length\",\n",
    "            \"test_length\",\n",
    "            \"nth_pred\",\n",
    "            \"value\",\n",
    "            \"pred\",\n",
    "            \"accuracy\",\n",
    "            \"trend_validation\"\n",
    "        ]\n",
    "    )\n",
    "\n",
    "nth_days_pred = [1, 2, 7, 15, 20, 30, 40]\n",
    "training_set_sizes = [365, 182, 90, 60, 30, 20]\n",
    "test_set_sizes = [40, 55, 70, 85, 100, 115, 130, 145, 160, 175, 190]\n",
    "\n",
    "for index, row in tickers_df.iterrows():\n",
    "    for train_len in training_set_sizes:\n",
    "        for test_len in test_set_sizes:\n",
    "            for nth in nth_days_pred:\n",
    "                results, pred_results = train_regression(\n",
    "                    ticker=row[\"ticker\"], train_set_length=train_len, test_set_length=test_len\n",
    "                )\n",
    "\n",
    "                nth_day_pred = pred_results[-(nth + 1)][0]\n",
    "                nth_day = results[-(nth + 1)][0]\n",
    "\n",
    "                accuracy = ((nth_day_pred / nth_day) - 1) * 100\n",
    "\n",
    "                trend = not ((nth_day_pred > results[-1][0]) ^ (nth_day > results[-1][0]))\n",
    "\n",
    "                write_rows_on_csv(\n",
    "                    path=out_path,\n",
    "                    ticker=row[\"ticker\"],\n",
    "                    train_length=train_len,\n",
    "                    test_length=test_len,\n",
    "                    nth_pred=nth,\n",
    "                    value=nth_day,\n",
    "                    pred=nth_day_pred,\n",
    "                    accuracy=accuracy,\n",
    "                    trend_validation=trend\n",
    "                )"
   ]
  },
  {
   "cell_type": "code",
   "execution_count": 14,
   "metadata": {},
   "outputs": [
    {
     "data": {
      "text/plain": [
       "582"
      ]
     },
     "execution_count": 14,
     "metadata": {},
     "output_type": "execute_result"
    }
   ],
   "source": [
    "tickers_df = pd.read_csv(\"out/clustering-results.csv\")\n",
    "\n",
    "data_sizes = []\n",
    "\n",
    "for index, row in tickers_df.iterrows():\n",
    "    df = pd.read_csv(f\"data/stock-data/{row['ticker']}.SAO.csv\")\n",
    "    data_sizes.append(len(df))\n",
    "\n",
    "min(data_sizes)"
   ]
  },
  {
   "cell_type": "code",
   "execution_count": 7,
   "metadata": {},
   "outputs": [
    {
     "data": {
      "image/png": "[encoded data removed]",
      "text/plain": [
       "<Figure size 800x600 with 1 Axes>"
      ]
     },
     "metadata": {},
     "output_type": "display_data"
    }
   ],
   "source": [
    "# Read the CSV file\n",
    "df = pd.read_csv('output.csv')\n",
    "\n",
    "# Replace 'your_column' with the actual column name in your CSV file\n",
    "category_counts = df['trend_validation'].value_counts()\n",
    "\n",
    "# Plot the chart\n",
    "plt.figure(figsize=(8, 6))\n",
    "category_counts.plot(kind='bar')\n",
    "plt.xlabel('Categories')\n",
    "plt.ylabel('Count')\n",
    "plt.title('Category Counts')\n",
    "plt.show()\n"
   ]
  }
 ],
 "metadata": {
  "kernelspec": {
   "display_name": "venv",
   "language": "python",
   "name": "python3"
  },
  "language_info": {
   "codemirror_mode": {
    "name": "ipython",
    "version": 3
   },
   "file_extension": ".py",
   "mimetype": "text/x-python",
   "name": "python",
   "nbconvert_exporter": "python",
   "pygments_lexer": "ipython3",
   "version": "3.11.5"
  },
  "orig_nbformat": 4
 },
 "nbformat": 4,
 "nbformat_minor": 2
}
